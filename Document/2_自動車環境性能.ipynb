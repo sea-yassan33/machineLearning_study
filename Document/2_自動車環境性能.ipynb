{
 "cells": [
  {
   "cell_type": "markdown",
   "metadata": {},
   "source": [
    "# 自動車環境性能\n",
    "## 機械学習の手順\n",
    "- 1.課題分析：自動車環境性能の改善\n",
    "- 2.データ収集:自動車データの読込み・確認\n",
    "- 3.前処理：自動車データの特徴把握・スケーリング\n",
    "- 4.モデル学習：\n",
    "- 5.モデル評価"
   ]
  },
  {
   "cell_type": "code",
   "execution_count": 3,
   "metadata": {},
   "outputs": [],
   "source": [
    "## 必要なライブラリをインポート\n",
    "import pandas as pd  \n",
    "import numpy as np\n",
    "from matplotlib import pyplot as plt\n",
    "import japanize_matplotlib\n",
    "import seaborn as sns\n",
    "## scikit-learnライブラリ\n",
    "from sklearn.model_selection import train_test_split\n",
    "from sklearn.linear_model import LinearRegression as LR\n",
    "from sklearn.metrics import mean_squared_error as MSE"
   ]
  },
  {
   "cell_type": "code",
   "execution_count": 8,
   "metadata": {},
   "outputs": [
    {
     "name": "stdout",
     "output_type": "stream",
     "text": [
      "6\n"
     ]
    }
   ],
   "source": [
    "## 表示設定\n",
    "print(pd.options.display.precision)"
   ]
  },
  {
   "cell_type": "markdown",
   "metadata": {},
   "source": [
    "## ライブラリについて\n",
    "|ライブラリ|用途|\n",
    "|:----|:----|\n",
    "|pandas|データ解析を支援する機能を提供するライブラリ|\n",
    "|numpy|数値計算を効率的に行うための拡張モジュール|\n",
    "|matplotlib|NumPyのためのグラフ描画ライブラリ|\n",
    "|japanize_matplotlib|グラフ描画を日本語に対応|\n",
    "|seaborn|統計的データ可視化に特化しており、魅力的で理解しやすいグラフを作成|\n",
    "|scikit-learn|データ分析や機械学習のためのライブラリ|\n",
    "|train_test_split|データを学習用データとテスト用データにランダムに分割するための関数|\n",
    "|LinearRegression(LR)|線形回帰を行うためのクラス|\n",
    "|mean_squared_error(MSE)|回帰モデルを評価するためのクラス|\n"
   ]
  },
  {
   "cell_type": "markdown",
   "metadata": {},
   "source": [
    "## 1.課題分析\n",
    "- 背景\n",
    "  - 走行実験において排出ガス規制をクリアできずに新型車の開発に失敗するというケースが発生して、大きな損失を出していた。\n",
    "  - 問題点は実際に走行実験を実施しないと排出ガス規制をクリアできる燃費性能であるか評価できない点にあり解決策を見出したい。\n",
    "- 解決策\n",
    "  - あらかじめ燃費性能を計算することができればこの問題を解決できる可能性がある\n",
    "  - 過去の自動車のデータを利用し、燃費を予測する機械学習モデルを作成\n",
    "- アクションプラン\n",
    "  - 走行実験前に燃費性能を評価ができれば、効率的に新型車の開発が進み、損失を減らす事できる。"
   ]
  },
  {
   "cell_type": "markdown",
   "metadata": {},
   "source": [
    "## 2.データの読込"
   ]
  },
  {
   "cell_type": "markdown",
   "metadata": {},
   "source": [
    "#### pandasのデータ読込関数\n",
    "\n",
    "- csvファイルの場合\n",
    "```python\n",
    "pd.read_csv('[failname].csv', sep= ',[区切り文字]')\n",
    "```\n",
    "\n",
    "- tsvファイルの場合\n",
    "```python\n",
    "pd.read_csv('[failname].tsv', sep= '\\t[区切り文字]')\n",
    "```"
   ]
  },
  {
   "cell_type": "code",
   "execution_count": 4,
   "metadata": {},
   "outputs": [
    {
     "data": {
      "text/html": [
       "<div>\n",
       "<style scoped>\n",
       "    .dataframe tbody tr th:only-of-type {\n",
       "        vertical-align: middle;\n",
       "    }\n",
       "\n",
       "    .dataframe tbody tr th {\n",
       "        vertical-align: top;\n",
       "    }\n",
       "\n",
       "    .dataframe thead th {\n",
       "        text-align: right;\n",
       "    }\n",
       "</style>\n",
       "<table border=\"1\" class=\"dataframe\">\n",
       "  <thead>\n",
       "    <tr style=\"text-align: right;\">\n",
       "      <th></th>\n",
       "      <th>id</th>\n",
       "      <th>mpg</th>\n",
       "      <th>cylinders</th>\n",
       "      <th>displacement</th>\n",
       "      <th>horsepower</th>\n",
       "      <th>weight</th>\n",
       "      <th>acceleration</th>\n",
       "      <th>model year</th>\n",
       "      <th>origin</th>\n",
       "      <th>car name</th>\n",
       "    </tr>\n",
       "  </thead>\n",
       "  <tbody>\n",
       "    <tr>\n",
       "      <th>0</th>\n",
       "      <td>0</td>\n",
       "      <td>29.0</td>\n",
       "      <td>4</td>\n",
       "      <td>135.0</td>\n",
       "      <td>84.0</td>\n",
       "      <td>2525.0</td>\n",
       "      <td>16.0</td>\n",
       "      <td>82</td>\n",
       "      <td>1</td>\n",
       "      <td>dodge aries se</td>\n",
       "    </tr>\n",
       "    <tr>\n",
       "      <th>1</th>\n",
       "      <td>3</td>\n",
       "      <td>31.9</td>\n",
       "      <td>4</td>\n",
       "      <td>89.0</td>\n",
       "      <td>71.0</td>\n",
       "      <td>1925.0</td>\n",
       "      <td>14.0</td>\n",
       "      <td>79</td>\n",
       "      <td>2</td>\n",
       "      <td>vw rabbit custom</td>\n",
       "    </tr>\n",
       "    <tr>\n",
       "      <th>2</th>\n",
       "      <td>9</td>\n",
       "      <td>19.0</td>\n",
       "      <td>6</td>\n",
       "      <td>156.0</td>\n",
       "      <td>108.0</td>\n",
       "      <td>2930.0</td>\n",
       "      <td>15.5</td>\n",
       "      <td>76</td>\n",
       "      <td>3</td>\n",
       "      <td>toyota mark ii</td>\n",
       "    </tr>\n",
       "    <tr>\n",
       "      <th>3</th>\n",
       "      <td>11</td>\n",
       "      <td>28.0</td>\n",
       "      <td>4</td>\n",
       "      <td>90.0</td>\n",
       "      <td>75.0</td>\n",
       "      <td>2125.0</td>\n",
       "      <td>14.5</td>\n",
       "      <td>74</td>\n",
       "      <td>1</td>\n",
       "      <td>dodge colt</td>\n",
       "    </tr>\n",
       "    <tr>\n",
       "      <th>4</th>\n",
       "      <td>13</td>\n",
       "      <td>37.7</td>\n",
       "      <td>4</td>\n",
       "      <td>89.0</td>\n",
       "      <td>62.0</td>\n",
       "      <td>2050.0</td>\n",
       "      <td>17.3</td>\n",
       "      <td>81</td>\n",
       "      <td>3</td>\n",
       "      <td>toyota tercel</td>\n",
       "    </tr>\n",
       "    <tr>\n",
       "      <th>...</th>\n",
       "      <td>...</td>\n",
       "      <td>...</td>\n",
       "      <td>...</td>\n",
       "      <td>...</td>\n",
       "      <td>...</td>\n",
       "      <td>...</td>\n",
       "      <td>...</td>\n",
       "      <td>...</td>\n",
       "      <td>...</td>\n",
       "      <td>...</td>\n",
       "    </tr>\n",
       "    <tr>\n",
       "      <th>194</th>\n",
       "      <td>384</td>\n",
       "      <td>40.8</td>\n",
       "      <td>4</td>\n",
       "      <td>85.0</td>\n",
       "      <td>65.0</td>\n",
       "      <td>2110.0</td>\n",
       "      <td>19.2</td>\n",
       "      <td>80</td>\n",
       "      <td>3</td>\n",
       "      <td>datsun 210</td>\n",
       "    </tr>\n",
       "    <tr>\n",
       "      <th>195</th>\n",
       "      <td>385</td>\n",
       "      <td>20.2</td>\n",
       "      <td>8</td>\n",
       "      <td>302.0</td>\n",
       "      <td>139.0</td>\n",
       "      <td>3570.0</td>\n",
       "      <td>12.8</td>\n",
       "      <td>78</td>\n",
       "      <td>1</td>\n",
       "      <td>mercury monarch ghia</td>\n",
       "    </tr>\n",
       "    <tr>\n",
       "      <th>196</th>\n",
       "      <td>387</td>\n",
       "      <td>16.0</td>\n",
       "      <td>8</td>\n",
       "      <td>304.0</td>\n",
       "      <td>150.0</td>\n",
       "      <td>3433.0</td>\n",
       "      <td>12.0</td>\n",
       "      <td>70</td>\n",
       "      <td>1</td>\n",
       "      <td>amc rebel sst</td>\n",
       "    </tr>\n",
       "    <tr>\n",
       "      <th>197</th>\n",
       "      <td>395</td>\n",
       "      <td>43.4</td>\n",
       "      <td>4</td>\n",
       "      <td>90.0</td>\n",
       "      <td>48.0</td>\n",
       "      <td>2335.0</td>\n",
       "      <td>23.7</td>\n",
       "      <td>80</td>\n",
       "      <td>2</td>\n",
       "      <td>vw dasher (diesel)</td>\n",
       "    </tr>\n",
       "    <tr>\n",
       "      <th>198</th>\n",
       "      <td>396</td>\n",
       "      <td>26.0</td>\n",
       "      <td>4</td>\n",
       "      <td>98.0</td>\n",
       "      <td>90.0</td>\n",
       "      <td>2265.0</td>\n",
       "      <td>15.5</td>\n",
       "      <td>73</td>\n",
       "      <td>2</td>\n",
       "      <td>fiat 124 sport coupe</td>\n",
       "    </tr>\n",
       "  </tbody>\n",
       "</table>\n",
       "<p>199 rows × 10 columns</p>\n",
       "</div>"
      ],
      "text/plain": [
       "      id   mpg  cylinders  displacement  horsepower  weight  acceleration  \\\n",
       "0      0  29.0          4         135.0        84.0  2525.0          16.0   \n",
       "1      3  31.9          4          89.0        71.0  1925.0          14.0   \n",
       "2      9  19.0          6         156.0       108.0  2930.0          15.5   \n",
       "3     11  28.0          4          90.0        75.0  2125.0          14.5   \n",
       "4     13  37.7          4          89.0        62.0  2050.0          17.3   \n",
       "..   ...   ...        ...           ...         ...     ...           ...   \n",
       "194  384  40.8          4          85.0        65.0  2110.0          19.2   \n",
       "195  385  20.2          8         302.0       139.0  3570.0          12.8   \n",
       "196  387  16.0          8         304.0       150.0  3433.0          12.0   \n",
       "197  395  43.4          4          90.0        48.0  2335.0          23.7   \n",
       "198  396  26.0          4          98.0        90.0  2265.0          15.5   \n",
       "\n",
       "     model year  origin              car name  \n",
       "0            82       1        dodge aries se  \n",
       "1            79       2      vw rabbit custom  \n",
       "2            76       3        toyota mark ii  \n",
       "3            74       1            dodge colt  \n",
       "4            81       3         toyota tercel  \n",
       "..          ...     ...                   ...  \n",
       "194          80       3            datsun 210  \n",
       "195          78       1  mercury monarch ghia  \n",
       "196          70       1         amc rebel sst  \n",
       "197          80       2    vw dasher (diesel)  \n",
       "198          73       2  fiat 124 sport coupe  \n",
       "\n",
       "[199 rows x 10 columns]"
      ]
     },
     "execution_count": 4,
     "metadata": {},
     "output_type": "execute_result"
    }
   ],
   "source": [
    "df01 = pd.read_csv('./data/train.tsv', sep = '\\t')\n",
    "df01"
   ]
  },
  {
   "cell_type": "markdown",
   "metadata": {},
   "source": [
    "## カラム説明\n",
    "\n",
    "ヘッダ名称|データ型|説明|\n",
    "|:----|:----|:----|\n",
    "|id|int|インデックスとして使用|\n",
    "|mpg|float|ガソリン１ガロンあたりの走行距離（mile par gallon の略）|\n",
    "|cylinders|varchar|シリンダー|\n",
    "|displacement|float|排気量|\n",
    "|horsepower|float|馬力|\n",
    "|weight|float|重量|\n",
    "|acceleration|float|加速度|\n",
    "|model year|varchar|年式|\n",
    "|origin|varchar|起源|\n",
    "|car name|varchar|車名|"
   ]
  },
  {
   "cell_type": "code",
   "execution_count": 5,
   "metadata": {},
   "outputs": [
    {
     "name": "stdout",
     "output_type": "stream",
     "text": [
      "カラム数：199\n",
      "レコード数：10\n",
      "<class 'pandas.core.frame.DataFrame'>\n",
      "RangeIndex: 199 entries, 0 to 198\n",
      "Data columns (total 10 columns):\n",
      " #   Column        Non-Null Count  Dtype  \n",
      "---  ------        --------------  -----  \n",
      " 0   id            199 non-null    int64  \n",
      " 1   mpg           199 non-null    float64\n",
      " 2   cylinders     199 non-null    int64  \n",
      " 3   displacement  199 non-null    float64\n",
      " 4   horsepower    195 non-null    float64\n",
      " 5   weight        199 non-null    float64\n",
      " 6   acceleration  199 non-null    float64\n",
      " 7   model year    199 non-null    int64  \n",
      " 8   origin        199 non-null    int64  \n",
      " 9   car name      199 non-null    object \n",
      "dtypes: float64(5), int64(4), object(1)\n",
      "memory usage: 15.7+ KB\n"
     ]
    }
   ],
   "source": [
    "## データの中身を確認\n",
    "print(f'カラム数：{df01.shape[0]}')\n",
    "print(f'レコード数：{df01.shape[1]}')\n",
    "df01.info()"
   ]
  },
  {
   "cell_type": "markdown",
   "metadata": {},
   "source": [
    "#### 【horsepowerのデータについて】\n",
    "- データ型がfloat型\n",
    "- 195のデータが存在\n",
    "- 4のnullデータが存在"
   ]
  },
  {
   "cell_type": "code",
   "execution_count": 6,
   "metadata": {},
   "outputs": [
    {
     "data": {
      "text/html": [
       "<div>\n",
       "<style scoped>\n",
       "    .dataframe tbody tr th:only-of-type {\n",
       "        vertical-align: middle;\n",
       "    }\n",
       "\n",
       "    .dataframe tbody tr th {\n",
       "        vertical-align: top;\n",
       "    }\n",
       "\n",
       "    .dataframe thead th {\n",
       "        text-align: right;\n",
       "    }\n",
       "</style>\n",
       "<table border=\"1\" class=\"dataframe\">\n",
       "  <thead>\n",
       "    <tr style=\"text-align: right;\">\n",
       "      <th></th>\n",
       "      <th>id</th>\n",
       "      <th>mpg</th>\n",
       "      <th>cylinders</th>\n",
       "      <th>displacement</th>\n",
       "      <th>horsepower</th>\n",
       "      <th>weight</th>\n",
       "      <th>acceleration</th>\n",
       "      <th>model year</th>\n",
       "      <th>origin</th>\n",
       "    </tr>\n",
       "  </thead>\n",
       "  <tbody>\n",
       "    <tr>\n",
       "      <th>count</th>\n",
       "      <td>199.000000</td>\n",
       "      <td>199.000000</td>\n",
       "      <td>199.000000</td>\n",
       "      <td>199.000000</td>\n",
       "      <td>195.000000</td>\n",
       "      <td>199.000000</td>\n",
       "      <td>199.000000</td>\n",
       "      <td>199.000000</td>\n",
       "      <td>199.000000</td>\n",
       "    </tr>\n",
       "    <tr>\n",
       "      <th>mean</th>\n",
       "      <td>200.170854</td>\n",
       "      <td>24.307035</td>\n",
       "      <td>5.296482</td>\n",
       "      <td>183.311558</td>\n",
       "      <td>101.297436</td>\n",
       "      <td>2883.839196</td>\n",
       "      <td>15.647739</td>\n",
       "      <td>76.165829</td>\n",
       "      <td>1.582915</td>\n",
       "    </tr>\n",
       "    <tr>\n",
       "      <th>std</th>\n",
       "      <td>113.432759</td>\n",
       "      <td>7.797665</td>\n",
       "      <td>1.644562</td>\n",
       "      <td>98.400457</td>\n",
       "      <td>35.562255</td>\n",
       "      <td>819.766870</td>\n",
       "      <td>2.701885</td>\n",
       "      <td>3.802928</td>\n",
       "      <td>0.798932</td>\n",
       "    </tr>\n",
       "    <tr>\n",
       "      <th>min</th>\n",
       "      <td>0.000000</td>\n",
       "      <td>9.000000</td>\n",
       "      <td>3.000000</td>\n",
       "      <td>71.000000</td>\n",
       "      <td>46.000000</td>\n",
       "      <td>1613.000000</td>\n",
       "      <td>8.500000</td>\n",
       "      <td>70.000000</td>\n",
       "      <td>1.000000</td>\n",
       "    </tr>\n",
       "    <tr>\n",
       "      <th>25%</th>\n",
       "      <td>98.500000</td>\n",
       "      <td>18.000000</td>\n",
       "      <td>4.000000</td>\n",
       "      <td>98.000000</td>\n",
       "      <td>75.000000</td>\n",
       "      <td>2217.500000</td>\n",
       "      <td>14.000000</td>\n",
       "      <td>73.000000</td>\n",
       "      <td>1.000000</td>\n",
       "    </tr>\n",
       "    <tr>\n",
       "      <th>50%</th>\n",
       "      <td>202.000000</td>\n",
       "      <td>24.000000</td>\n",
       "      <td>4.000000</td>\n",
       "      <td>140.000000</td>\n",
       "      <td>92.000000</td>\n",
       "      <td>2702.000000</td>\n",
       "      <td>15.500000</td>\n",
       "      <td>76.000000</td>\n",
       "      <td>1.000000</td>\n",
       "    </tr>\n",
       "    <tr>\n",
       "      <th>75%</th>\n",
       "      <td>294.500000</td>\n",
       "      <td>30.500000</td>\n",
       "      <td>6.000000</td>\n",
       "      <td>250.000000</td>\n",
       "      <td>114.000000</td>\n",
       "      <td>3426.500000</td>\n",
       "      <td>17.150000</td>\n",
       "      <td>80.000000</td>\n",
       "      <td>2.000000</td>\n",
       "    </tr>\n",
       "    <tr>\n",
       "      <th>max</th>\n",
       "      <td>396.000000</td>\n",
       "      <td>44.600000</td>\n",
       "      <td>8.000000</td>\n",
       "      <td>454.000000</td>\n",
       "      <td>220.000000</td>\n",
       "      <td>5140.000000</td>\n",
       "      <td>23.700000</td>\n",
       "      <td>82.000000</td>\n",
       "      <td>3.000000</td>\n",
       "    </tr>\n",
       "  </tbody>\n",
       "</table>\n",
       "</div>"
      ],
      "text/plain": [
       "               id         mpg   cylinders  displacement  horsepower  \\\n",
       "count  199.000000  199.000000  199.000000    199.000000  195.000000   \n",
       "mean   200.170854   24.307035    5.296482    183.311558  101.297436   \n",
       "std    113.432759    7.797665    1.644562     98.400457   35.562255   \n",
       "min      0.000000    9.000000    3.000000     71.000000   46.000000   \n",
       "25%     98.500000   18.000000    4.000000     98.000000   75.000000   \n",
       "50%    202.000000   24.000000    4.000000    140.000000   92.000000   \n",
       "75%    294.500000   30.500000    6.000000    250.000000  114.000000   \n",
       "max    396.000000   44.600000    8.000000    454.000000  220.000000   \n",
       "\n",
       "            weight  acceleration  model year      origin  \n",
       "count   199.000000    199.000000  199.000000  199.000000  \n",
       "mean   2883.839196     15.647739   76.165829    1.582915  \n",
       "std     819.766870      2.701885    3.802928    0.798932  \n",
       "min    1613.000000      8.500000   70.000000    1.000000  \n",
       "25%    2217.500000     14.000000   73.000000    1.000000  \n",
       "50%    2702.000000     15.500000   76.000000    1.000000  \n",
       "75%    3426.500000     17.150000   80.000000    2.000000  \n",
       "max    5140.000000     23.700000   82.000000    3.000000  "
      ]
     },
     "execution_count": 6,
     "metadata": {},
     "output_type": "execute_result"
    }
   ],
   "source": [
    "## 基本統計量を確認(量的データのみ出力)\n",
    "df01.describe()"
   ]
  },
  {
   "cell_type": "code",
   "execution_count": 7,
   "metadata": {},
   "outputs": [
    {
     "data": {
      "text/html": [
       "<div>\n",
       "<style scoped>\n",
       "    .dataframe tbody tr th:only-of-type {\n",
       "        vertical-align: middle;\n",
       "    }\n",
       "\n",
       "    .dataframe tbody tr th {\n",
       "        vertical-align: top;\n",
       "    }\n",
       "\n",
       "    .dataframe thead th {\n",
       "        text-align: right;\n",
       "    }\n",
       "</style>\n",
       "<table border=\"1\" class=\"dataframe\">\n",
       "  <thead>\n",
       "    <tr style=\"text-align: right;\">\n",
       "      <th></th>\n",
       "      <th>car name</th>\n",
       "    </tr>\n",
       "  </thead>\n",
       "  <tbody>\n",
       "    <tr>\n",
       "      <th>count</th>\n",
       "      <td>199</td>\n",
       "    </tr>\n",
       "    <tr>\n",
       "      <th>unique</th>\n",
       "      <td>167</td>\n",
       "    </tr>\n",
       "    <tr>\n",
       "      <th>top</th>\n",
       "      <td>chevrolet impala</td>\n",
       "    </tr>\n",
       "    <tr>\n",
       "      <th>freq</th>\n",
       "      <td>4</td>\n",
       "    </tr>\n",
       "  </tbody>\n",
       "</table>\n",
       "</div>"
      ],
      "text/plain": [
       "                car name\n",
       "count                199\n",
       "unique               167\n",
       "top     chevrolet impala\n",
       "freq                   4"
      ]
     },
     "execution_count": 7,
     "metadata": {},
     "output_type": "execute_result"
    }
   ],
   "source": [
    "## 基本統計量を確認(質的データのみ)\n",
    "'''\n",
    "count:データ数\n",
    "unique:重複を除いたデータ数\n",
    "top:最頻値の文字列\n",
    "freq: 最頻値\n",
    "'''\n",
    "df01.describe(exclude='number')"
   ]
  },
  {
   "cell_type": "code",
   "execution_count": 13,
   "metadata": {},
   "outputs": [
    {
     "name": "stdout",
     "output_type": "stream",
     "text": [
      "count    199.000000\n",
      "mean     183.311558\n",
      "std       98.400457\n",
      "min       71.000000\n",
      "25%       98.000000\n",
      "50%      140.000000\n",
      "75%      250.000000\n",
      "max      454.000000\n",
      "Name: displacement, dtype: float64\n"
     ]
    },
    {
     "data": {
      "image/png": "[encoded data removed]",
      "text/plain": [
       "<Figure size 640x480 with 1 Axes>"
      ]
     },
     "metadata": {},
     "output_type": "display_data"
    }
   ],
   "source": [
    "#### 排気量(displacement)のデータをヒストグラムで可視化\n",
    "print(df01['displacement'].describe())\n",
    "displacement_var = df01['displacement']\n",
    "displacement_var.plot.hist(title='排気量')\n",
    "plt.show()"
   ]
  },
  {
   "cell_type": "code",
   "execution_count": 14,
   "metadata": {},
   "outputs": [
    {
     "name": "stdout",
     "output_type": "stream",
     "text": [
      "count    199.000000\n",
      "mean      24.307035\n",
      "std        7.797665\n",
      "min        9.000000\n",
      "25%       18.000000\n",
      "50%       24.000000\n",
      "75%       30.500000\n",
      "max       44.600000\n",
      "Name: mpg, dtype: float64\n"
     ]
    },
    {
     "data": {
      "image/png": "[encoded data removed]",
      "text/plain": [
       "<Figure size 640x480 with 1 Axes>"
      ]
     },
     "metadata": {},
     "output_type": "display_data"
    }
   ],
   "source": [
    "## ガソリン１ガロンあたりの走行距離(mpg)のデータをヒストグラムで可視化\n",
    "print(df01['mpg'].describe())\n",
    "mpg_var = df01['mpg']\n",
    "mpg_var.plot.hist(title='走行距離/１ガロン')\n",
    "plt.show()"
   ]
  },
  {
   "cell_type": "code",
   "execution_count": 15,
   "metadata": {},
   "outputs": [
    {
     "data": {
      "text/html": [
       "<div>\n",
       "<style scoped>\n",
       "    .dataframe tbody tr th:only-of-type {\n",
       "        vertical-align: middle;\n",
       "    }\n",
       "\n",
       "    .dataframe tbody tr th {\n",
       "        vertical-align: top;\n",
       "    }\n",
       "\n",
       "    .dataframe thead th {\n",
       "        text-align: right;\n",
       "    }\n",
       "</style>\n",
       "<table border=\"1\" class=\"dataframe\">\n",
       "  <thead>\n",
       "    <tr style=\"text-align: right;\">\n",
       "      <th></th>\n",
       "      <th>mpg</th>\n",
       "      <th>displacement</th>\n",
       "      <th>horsepower</th>\n",
       "      <th>weight</th>\n",
       "      <th>acceleration</th>\n",
       "      <th>model year</th>\n",
       "      <th>origin</th>\n",
       "    </tr>\n",
       "  </thead>\n",
       "  <tbody>\n",
       "    <tr>\n",
       "      <th>mpg</th>\n",
       "      <td>1.000000</td>\n",
       "      <td>-0.804635</td>\n",
       "      <td>-0.791419</td>\n",
       "      <td>-0.820660</td>\n",
       "      <td>0.379721</td>\n",
       "      <td>0.568471</td>\n",
       "      <td>0.533671</td>\n",
       "    </tr>\n",
       "    <tr>\n",
       "      <th>displacement</th>\n",
       "      <td>-0.804635</td>\n",
       "      <td>1.000000</td>\n",
       "      <td>0.894965</td>\n",
       "      <td>0.933038</td>\n",
       "      <td>-0.523955</td>\n",
       "      <td>-0.329817</td>\n",
       "      <td>-0.579805</td>\n",
       "    </tr>\n",
       "    <tr>\n",
       "      <th>horsepower</th>\n",
       "      <td>-0.791419</td>\n",
       "      <td>0.894965</td>\n",
       "      <td>1.000000</td>\n",
       "      <td>0.872336</td>\n",
       "      <td>-0.661741</td>\n",
       "      <td>-0.384597</td>\n",
       "      <td>-0.421929</td>\n",
       "    </tr>\n",
       "    <tr>\n",
       "      <th>weight</th>\n",
       "      <td>-0.820660</td>\n",
       "      <td>0.933038</td>\n",
       "      <td>0.872336</td>\n",
       "      <td>1.000000</td>\n",
       "      <td>-0.401757</td>\n",
       "      <td>-0.265562</td>\n",
       "      <td>-0.535893</td>\n",
       "    </tr>\n",
       "    <tr>\n",
       "      <th>acceleration</th>\n",
       "      <td>0.379721</td>\n",
       "      <td>-0.523955</td>\n",
       "      <td>-0.661741</td>\n",
       "      <td>-0.401757</td>\n",
       "      <td>1.000000</td>\n",
       "      <td>0.194854</td>\n",
       "      <td>0.189193</td>\n",
       "    </tr>\n",
       "    <tr>\n",
       "      <th>model year</th>\n",
       "      <td>0.568471</td>\n",
       "      <td>-0.329817</td>\n",
       "      <td>-0.384597</td>\n",
       "      <td>-0.265562</td>\n",
       "      <td>0.194854</td>\n",
       "      <td>1.000000</td>\n",
       "      <td>0.124279</td>\n",
       "    </tr>\n",
       "    <tr>\n",
       "      <th>origin</th>\n",
       "      <td>0.533671</td>\n",
       "      <td>-0.579805</td>\n",
       "      <td>-0.421929</td>\n",
       "      <td>-0.535893</td>\n",
       "      <td>0.189193</td>\n",
       "      <td>0.124279</td>\n",
       "      <td>1.000000</td>\n",
       "    </tr>\n",
       "  </tbody>\n",
       "</table>\n",
       "</div>"
      ],
      "text/plain": [
       "                   mpg  displacement  horsepower    weight  acceleration  \\\n",
       "mpg           1.000000     -0.804635   -0.791419 -0.820660      0.379721   \n",
       "displacement -0.804635      1.000000    0.894965  0.933038     -0.523955   \n",
       "horsepower   -0.791419      0.894965    1.000000  0.872336     -0.661741   \n",
       "weight       -0.820660      0.933038    0.872336  1.000000     -0.401757   \n",
       "acceleration  0.379721     -0.523955   -0.661741 -0.401757      1.000000   \n",
       "model year    0.568471     -0.329817   -0.384597 -0.265562      0.194854   \n",
       "origin        0.533671     -0.579805   -0.421929 -0.535893      0.189193   \n",
       "\n",
       "              model year    origin  \n",
       "mpg             0.568471  0.533671  \n",
       "displacement   -0.329817 -0.579805  \n",
       "horsepower     -0.384597 -0.421929  \n",
       "weight         -0.265562 -0.535893  \n",
       "acceleration    0.194854  0.189193  \n",
       "model year      1.000000  0.124279  \n",
       "origin          0.124279  1.000000  "
      ]
     },
     "execution_count": 15,
     "metadata": {},
     "output_type": "execute_result"
    }
   ],
   "source": [
    "## 相関関係の確認\n",
    "'''\n",
    "df01から量的なデータのみ抽出\n",
    "corr関数：相関関係を出力する関数\n",
    "'''\n",
    "df01_corr = df01[[\"mpg\",\"displacement\",\"horsepower\",\"weight\",\"acceleration\",\"model year\",\"origin\"]]\n",
    "df01_corr.corr()"
   ]
  },
  {
   "cell_type": "code",
   "execution_count": 16,
   "metadata": {},
   "outputs": [
    {
     "data": {
      "image/png": "[encoded data removed]",
      "text/plain": [
       "<Figure size 640x480 with 2 Axes>"
      ]
     },
     "metadata": {},
     "output_type": "display_data"
    }
   ],
   "source": [
    "## 相関関係を可視化\n",
    "corr_matrix = df01_corr.corr()\n",
    "sns.heatmap(corr_matrix)\n",
    "plt.show()"
   ]
  },
  {
   "cell_type": "markdown",
   "metadata": {},
   "source": [
    "#### 相関関係からわかる事\n",
    "- ガソリン１ガロンあたりの走行距離(mpg)\n",
    "  - 正の相関\n",
    "    - acceleration（加速度）：0.379721\n",
    "    - model year（年式）：0.568471\n",
    "    - origin（起源）：0.533671\n",
    "  - 負の相関\n",
    "    - displacement(排気量)：-0.804635\n",
    "    - horsepower(馬力)：-0.791419\n",
    "    - weight（重量）：-0.820660"
   ]
  },
  {
   "cell_type": "code",
   "execution_count": 17,
   "metadata": {},
   "outputs": [
    {
     "data": {
      "image/png": "[encoded data removed]",
      "text/plain": [
       "<Figure size 640x480 with 1 Axes>"
      ]
     },
     "metadata": {},
     "output_type": "display_data"
    }
   ],
   "source": [
    "# 横軸に「排気量」、縦軸に「燃費」を割り当て散布図を描画\n",
    "plt.scatter(df01['displacement'],df01['mpg'])\n",
    "\n",
    "# x軸とy軸に名前を付与\n",
    "plt.xlabel('排気量')\n",
    "plt.ylabel('走行距離/１ガロン')\n",
    "plt.show()"
   ]
  },
  {
   "cell_type": "code",
   "execution_count": 18,
   "metadata": {},
   "outputs": [
    {
     "data": {
      "image/png": "[encoded data removed]",
      "text/plain": [
       "<Figure size 640x480 with 1 Axes>"
      ]
     },
     "metadata": {},
     "output_type": "display_data"
    }
   ],
   "source": [
    "# 横軸に「馬力」、縦軸に「燃費」を割り当て散布図を描画\n",
    "plt.scatter(df01['horsepower'],df01['mpg'])\n",
    "\n",
    "# x軸とy軸に名前を付与\n",
    "plt.xlabel('馬力')\n",
    "plt.ylabel('走行距離/１ガロン')\n",
    "plt.show()"
   ]
  },
  {
   "cell_type": "code",
   "execution_count": 12,
   "metadata": {},
   "outputs": [
    {
     "data": {
      "text/plain": [
       "car name\n",
       "chevrolet impala                4\n",
       "ford pinto                      4\n",
       "volkswagen dasher               3\n",
       "chevrolet caprice classic       3\n",
       "amc gremlin                     3\n",
       "                               ..\n",
       "chevrolet vega (sw)             1\n",
       "chevrolet monte carlo landau    1\n",
       "ford gran torino                1\n",
       "datsun 200sx                    1\n",
       "fiat 124 sport coupe            1\n",
       "Name: count, Length: 167, dtype: int64"
      ]
     },
     "execution_count": 12,
     "metadata": {},
     "output_type": "execute_result"
    }
   ],
   "source": [
    "## value_counts関数を使って文字列と頻度値を抽出\n",
    "car_names = df01['car name'].value_counts()\n",
    "car_names.to_csv('./data/car_name.csv')\n",
    "car_names"
   ]
  },
  {
   "cell_type": "markdown",
   "metadata": {},
   "source": [
    "#### car_namesのデータを確認してわかる事\n",
    "```\n",
    "(例えば)\n",
    "amc gremlin,3 : アメリカンモーターズ グレムリン\n",
    "chevrolet vega,2: シボレー ベガ\n",
    "toyota corolla 1200,2: トヨタ カローラ 1200\n",
    "```\n",
    "\n",
    "- 文字列から見て{メーカー名}_{モデル名}と推定できる\n",
    "- メーカーによってスケーリングすることができる\n"
   ]
  },
  {
   "cell_type": "markdown",
   "metadata": {},
   "source": [
    "## 3.前処理"
   ]
  },
  {
   "cell_type": "code",
   "execution_count": 8,
   "metadata": {},
   "outputs": [
    {
     "data": {
      "text/plain": [
       "id              0\n",
       "mpg             0\n",
       "cylinders       0\n",
       "displacement    0\n",
       "horsepower      4\n",
       "weight          0\n",
       "acceleration    0\n",
       "model year      0\n",
       "origin          0\n",
       "car name        0\n",
       "dtype: int64"
      ]
     },
     "execution_count": 8,
     "metadata": {},
     "output_type": "execute_result"
    }
   ],
   "source": [
    "## isnull関数とsum関数を組合せて各カラムにある欠損値を求める\n",
    "df01.isnull().sum()"
   ]
  },
  {
   "cell_type": "code",
   "execution_count": 9,
   "metadata": {},
   "outputs": [
    {
     "data": {
      "text/plain": [
       "id              0\n",
       "mpg             0\n",
       "cylinders       0\n",
       "displacement    0\n",
       "horsepower      0\n",
       "weight          0\n",
       "acceleration    0\n",
       "model year      0\n",
       "origin          0\n",
       "car name        0\n",
       "dtype: int64"
      ]
     },
     "execution_count": 9,
     "metadata": {},
     "output_type": "execute_result"
    }
   ],
   "source": [
    "## df01をコピー\n",
    "## nullがあるレコードは削除\n",
    "df02 = df01.copy(deep=True)\n",
    "df02.dropna(inplace=True)\n",
    "df02.isnull().sum()"
   ]
  },
  {
   "cell_type": "markdown",
   "metadata": {},
   "source": [
    "## 4.モデルの学習"
   ]
  },
  {
   "cell_type": "code",
   "execution_count": 19,
   "metadata": {},
   "outputs": [
    {
     "name": "stdout",
     "output_type": "stream",
     "text": [
      "<class 'pandas.core.frame.DataFrame'>\n",
      "Index: 195 entries, 0 to 198\n",
      "Data columns (total 9 columns):\n",
      " #   Column        Non-Null Count  Dtype  \n",
      "---  ------        --------------  -----  \n",
      " 0   mpg           195 non-null    float64\n",
      " 1   cylinders     195 non-null    int64  \n",
      " 2   displacement  195 non-null    float64\n",
      " 3   horsepower    195 non-null    float64\n",
      " 4   weight        195 non-null    float64\n",
      " 5   acceleration  195 non-null    float64\n",
      " 6   model year    195 non-null    int64  \n",
      " 7   origin        195 non-null    int64  \n",
      " 8   car name      195 non-null    object \n",
      "dtypes: float64(5), int64(3), object(1)\n",
      "memory usage: 15.2+ KB\n"
     ]
    }
   ],
   "source": [
    "df03 = df02.copy(deep=True)\n",
    "## idは機械学習をする際に不要な為削除\n",
    "df03.drop(columns=['id'],inplace=True)\n",
    "## データを確認\n",
    "df03.info()"
   ]
  },
  {
   "cell_type": "code",
   "execution_count": 20,
   "metadata": {},
   "outputs": [],
   "source": [
    "## 説明変数、目的変数を設定\n",
    "'''\n",
    "説明変数(x):ガソリン１ガロンあたりの走行距離(mpg)\n",
    "目的変数(y):シリンダー,\t排気量,\t馬力,\t重量,\t加速度,\t年式,\t起源\n",
    "'''\n",
    "y= df03[\"mpg\"]\n",
    "x= df03[[\"cylinders\",\"displacement\",\"horsepower\",\"weight\",\"acceleration\",\"model year\",\"origin\"]]"
   ]
  },
  {
   "cell_type": "code",
   "execution_count": 21,
   "metadata": {},
   "outputs": [],
   "source": [
    "## train_test_split関数にて\n",
    "## 学習データと評価データに分割\n",
    "'''\n",
    "test_size=0.2\n",
    "80%を学習用データ\n",
    "20%を評価データ\n",
    "\n",
    "乱数を固定するときシード値を設定\n",
    "再現性の確保\n",
    "比較可能性の向上\n",
    "開発現場では慣例的に42が使われる。（特に重要な意味はない）\n",
    "random_state=42\n",
    "'''\n",
    "x_train, x_test, y_train, y_test = train_test_split(x,y,test_size=0.2,random_state=0)"
   ]
  },
  {
   "cell_type": "markdown",
   "metadata": {},
   "source": [
    "## 重回帰モデル\n",
    "- 重回帰モデルは線形回帰モデルの1つ\n",
    "- 説明変数displacementを横軸に、目的変数mpgを縦軸に散布図\n",
    "- 2つ以上の複数の説明変数から目的変数を予測する線形回帰モデルを重回帰モデル\n",
    "- 回帰モデルの作成するにあたり、scikit-learnライブラリのLinearRegressionを利用\n",
    "- モデルを表す箱を準備し、その箱を表す変数へ代入する必要\n",
    "\n",
    "```\n",
    "model = LR()\n",
    "```\n",
    "\n",
    "- モデルの学習にはfit関数を使い、引数の中に、説明変数、目的変数の順番で記述"
   ]
  },
  {
   "cell_type": "code",
   "execution_count": null,
   "metadata": {},
   "outputs": [],
   "source": []
  }
 ],
 "metadata": {
  "kernelspec": {
   "display_name": "Python 3",
   "language": "python",
   "name": "python3"
  },
  "language_info": {
   "codemirror_mode": {
    "name": "ipython",
    "version": 3
   },
   "file_extension": ".py",
   "mimetype": "text/x-python",
   "name": "python",
   "nbconvert_exporter": "python",
   "pygments_lexer": "ipython3",
   "version": "3.10.11"
  }
 },
 "nbformat": 4,
 "nbformat_minor": 2
}
